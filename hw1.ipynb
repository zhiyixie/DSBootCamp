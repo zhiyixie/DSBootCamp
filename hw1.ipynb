{
 "cells": [
  {
   "cell_type": "markdown",
   "id": "10b73ad5",
   "metadata": {},
   "source": [
    "## 1. Display Fibonacci Series upto 10 terms"
   ]
  },
  {
   "cell_type": "code",
   "execution_count": 1,
   "id": "a76d8e4e",
   "metadata": {},
   "outputs": [
    {
     "name": "stdout",
     "output_type": "stream",
     "text": [
      "0\n",
      "1\n",
      "1\n",
      "2\n",
      "3\n",
      "5\n",
      "8\n",
      "13\n",
      "21\n",
      "34\n"
     ]
    }
   ],
   "source": [
    "# 0, 1, 1, 2, 3, 5, 8, 13, 21, 34,... Adding the provious two numbers \n",
    "a = 0\n",
    "b = 1\n",
    "n = 0\n",
    "while n < 10:\n",
    "    print(a)\n",
    "    a, b = b, a + b \n",
    "    n = n + 1"
   ]
  },
  {
   "cell_type": "markdown",
   "id": "4dc7f85d",
   "metadata": {},
   "source": [
    "## 2. Display numbers at the odd indices of a list"
   ]
  },
  {
   "cell_type": "code",
   "execution_count": 2,
   "id": "c49c1a2f",
   "metadata": {},
   "outputs": [
    {
     "name": "stdout",
     "output_type": "stream",
     "text": [
      "[0, 1, 1, 2, 3, 5, 8, 13, 21, 34]\n"
     ]
    }
   ],
   "source": [
    "# Crating a list\n",
    "FS = []\n",
    "a = 0\n",
    "b = 1\n",
    "n = 0\n",
    "while n < 10:\n",
    "    FS.append(a)\n",
    "    a, b = b, a + b \n",
    "    n = n + 1\n",
    "print(FS)"
   ]
  },
  {
   "cell_type": "code",
   "execution_count": 3,
   "id": "1ff20846",
   "metadata": {},
   "outputs": [
    {
     "name": "stdout",
     "output_type": "stream",
     "text": [
      "1\n",
      "2\n",
      "5\n",
      "13\n",
      "34\n"
     ]
    }
   ],
   "source": [
    "for i in range (1, len(FS),2):\n",
    "    print(FS[i])"
   ]
  },
  {
   "cell_type": "markdown",
   "id": "35a731c2",
   "metadata": {},
   "source": [
    "## 3. Print a list in reverse order"
   ]
  },
  {
   "cell_type": "code",
   "execution_count": 4,
   "id": "82b0aa96",
   "metadata": {},
   "outputs": [
    {
     "name": "stdout",
     "output_type": "stream",
     "text": [
      "34\n",
      "21\n",
      "13\n",
      "8\n",
      "5\n",
      "3\n",
      "2\n",
      "1\n",
      "1\n",
      "0\n"
     ]
    }
   ],
   "source": [
    "for i in reversed(FS):\n",
    "    print(i)"
   ]
  },
  {
   "cell_type": "markdown",
   "id": "40cdd242",
   "metadata": {},
   "source": [
    "## 4. Your task is to count the number of different words in this text"
   ]
  },
  {
   "cell_type": "code",
   "execution_count": 5,
   "id": "d22dc805",
   "metadata": {},
   "outputs": [],
   "source": [
    "string = \"\"\"\n",
    "\tChatGPT has created this text to provide tips on creating interesting paragraphs. \n",
    "\tFirst, start with a clear topic sentence that introduces the main idea. \n",
    "\tThen, support the topic sentence with specific details, examples, and evidence.\n",
    "\tVary the sentence length and structure to keep the reader engaged.\n",
    "\tFinally, end with a strong concluding sentence that summarizes the main points.\n",
    "\tRemember, practice makes perfect!\n",
    "\t\"\"\""
   ]
  },
  {
   "cell_type": "code",
   "execution_count": 6,
   "id": "9fd8131e",
   "metadata": {},
   "outputs": [
    {
     "name": "stdout",
     "output_type": "stream",
     "text": [
      "47\n"
     ]
    }
   ],
   "source": [
    "words = string.split()\n",
    "# used to convert any of the iterable to sequence of \n",
    "# iterable elements with distinct elements,\n",
    "unique_words = set(words)\n",
    "print(len(unique_words))"
   ]
  },
  {
   "cell_type": "markdown",
   "id": "aeb35688",
   "metadata": {},
   "source": [
    "## 5. Write a function that takes a word as an argument and returns the number of vowels in the word"
   ]
  },
  {
   "cell_type": "code",
   "execution_count": 7,
   "id": "f89ce0a3",
   "metadata": {},
   "outputs": [],
   "source": [
    "def vowels (word):\n",
    "    v = \"aeiouAEIOU\"\n",
    "    l = 0\n",
    "    for char in word:\n",
    "        if char in v:\n",
    "            l += 1\n",
    "    print(l)"
   ]
  },
  {
   "cell_type": "code",
   "execution_count": 8,
   "id": "4e9b5744",
   "metadata": {},
   "outputs": [
    {
     "name": "stdout",
     "output_type": "stream",
     "text": [
      "8\n"
     ]
    }
   ],
   "source": [
    "vowels(\"DataScienceBootCamp\")"
   ]
  },
  {
   "cell_type": "markdown",
   "id": "3a7a30ed",
   "metadata": {},
   "source": [
    "## 6. Iterate through the following list of animals and print each one in all caps.\n",
    "\n",
    "  animals=['tiger', 'elephant', 'monkey', 'zebra', 'panther']"
   ]
  },
  {
   "cell_type": "code",
   "execution_count": 9,
   "id": "855ab2aa",
   "metadata": {},
   "outputs": [],
   "source": [
    "animals=['tiger', 'elephant', 'monkey', 'zebra', 'panther']"
   ]
  },
  {
   "cell_type": "code",
   "execution_count": 10,
   "id": "455e66da",
   "metadata": {},
   "outputs": [
    {
     "name": "stdout",
     "output_type": "stream",
     "text": [
      "TIGER\n",
      "ELEPHANT\n",
      "MONKEY\n",
      "ZEBRA\n",
      "PANTHER\n"
     ]
    }
   ],
   "source": [
    "for i in animals:\n",
    "    print(i.upper())"
   ]
  },
  {
   "cell_type": "markdown",
   "id": "907a74b5",
   "metadata": {},
   "source": [
    "## 7. Iterate from 1 to 15, printing whether the number is odd or even"
   ]
  },
  {
   "cell_type": "code",
   "execution_count": 11,
   "id": "4210b8fb",
   "metadata": {},
   "outputs": [
    {
     "name": "stdout",
     "output_type": "stream",
     "text": [
      "1 is odd\n",
      "2 is even\n",
      "3 is odd\n",
      "4 is even\n",
      "5 is odd\n",
      "6 is even\n",
      "7 is odd\n",
      "8 is even\n",
      "9 is odd\n",
      "10 is even\n",
      "11 is odd\n",
      "12 is even\n",
      "13 is odd\n",
      "14 is even\n",
      "15 is odd\n"
     ]
    }
   ],
   "source": [
    "for i in range(1,16):\n",
    "    if i%2 == 0:\n",
    "        print(i,\"is even\")\n",
    "    else:\n",
    "        print(i,\"is odd\")"
   ]
  },
  {
   "cell_type": "markdown",
   "id": "d4cccde7",
   "metadata": {},
   "source": [
    "## 8. Take two integers as input from user and return the sum"
   ]
  },
  {
   "cell_type": "code",
   "execution_count": 12,
   "id": "dc1a684a",
   "metadata": {},
   "outputs": [
    {
     "name": "stdout",
     "output_type": "stream",
     "text": [
      "5\n"
     ]
    }
   ],
   "source": [
    "def sum (a,b):\n",
    "    return a+b\n",
    "print(sum(2,3))"
   ]
  }
 ],
 "metadata": {
  "kernelspec": {
   "display_name": "Python 3 (ipykernel)",
   "language": "python",
   "name": "python3"
  },
  "language_info": {
   "codemirror_mode": {
    "name": "ipython",
    "version": 3
   },
   "file_extension": ".py",
   "mimetype": "text/x-python",
   "name": "python",
   "nbconvert_exporter": "python",
   "pygments_lexer": "ipython3",
   "version": "3.9.12"
  }
 },
 "nbformat": 4,
 "nbformat_minor": 5
}
